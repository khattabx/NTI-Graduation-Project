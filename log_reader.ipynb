{
 "cells": [
  {
   "cell_type": "markdown",
   "metadata": {},
   "source": [
    "# NTI-Graduation-Project\n",
    "### This File For The python script to handel the logs presentation with pyspark."
   ]
  },
  {
   "cell_type": "markdown",
   "metadata": {},
   "source": [
    "#### Import PySpark"
   ]
  },
  {
   "cell_type": "code",
   "execution_count": 12,
   "metadata": {
    "scrolled": true
   },
   "outputs": [],
   "source": [
    "from pyspark.sql import SparkSession\n",
    "from pyspark.sql.functions import regexp_extract, col\n",
    "from pyspark.sql.functions import explode, split"
   ]
  },
  {
   "cell_type": "markdown",
   "metadata": {},
   "source": [
    "#### Create SparkSession"
   ]
  },
  {
   "cell_type": "code",
   "execution_count": 6,
   "metadata": {},
   "outputs": [],
   "source": [
    "spark = SparkSession.builder \\\n",
    "    .appName(\"GraduationLogAnalysis\") \\\n",
    "    .getOrCreate()"
   ]
  },
  {
   "cell_type": "markdown",
   "metadata": {},
   "source": [
    "#### Read log data from HDFS"
   ]
  },
  {
   "cell_type": "code",
   "execution_count": 7,
   "metadata": {},
   "outputs": [],
   "source": [
    "hdfs_path = \"hdfs://localhost:9000/user/bigdata/graduation/\"\n",
    "logs_df = spark.read.text(hdfs_path)"
   ]
  },
  {
   "cell_type": "markdown",
   "metadata": {},
   "source": [
    "#### Show sample data"
   ]
  },
  {
   "cell_type": "code",
   "execution_count": 8,
   "metadata": {},
   "outputs": [
    {
     "name": "stdout",
     "output_type": "stream",
     "text": [
      "+-------------------------------------------------------------------------------------------------------------------------------------+\n",
      "|value                                                                                                                                |\n",
      "+-------------------------------------------------------------------------------------------------------------------------------------+\n",
      "|2025-07-17 07:48:23,196 2762 log_generator.py 145 log-generator DEBUG Tarkin turns to the computer readout screen. Flames move       |\n",
      "|2025-07-17 07:48:23,564 2762 log_generator.py 145 log-generator DEBUG She lied! She lied to us!                                      |\n",
      "|2025-07-17 07:48:23,780 2762 log_generator.py 145 log-generator DEBUG feet from them and assumes a defensive position. The troops    |\n",
      "|2025-07-17 07:48:24,135 2762 log_generator.py 145 log-generator DEBUG Look, I can take you as far as                                 |\n",
      "|2025-07-17 07:48:24,448 2762 log_generator.py 145 log-generator DEBUG his field of view. Before Luke or Threepio can react, a large, |\n",
      "|2025-07-17 07:48:25,332 2762 log_generator.py 145 log-generator DEBUG The ship begins to rock violently as lasers hit it.            |\n",
      "|2025-07-17 07:48:26,301 2762 log_generator.py 145 log-generator DEBUG Our passengers must be hotter than I                           |\n",
      "|2025-07-17 07:48:26,865 2762 log_generator.py 145 log-generator DEBUG Good...                                                        |\n",
      "|2025-07-17 07:48:27,613 2762 log_generator.py 145 log-generator DEBUG Luke still recovering from the shock of seeing so many         |\n",
      "|2025-07-17 07:48:30,306 2762 log_generator.py 145 log-generator DEBUG size as the Rebel fighters approach. Complex patterns on the   |\n",
      "+-------------------------------------------------------------------------------------------------------------------------------------+\n",
      "only showing top 10 rows\n",
      "\n"
     ]
    }
   ],
   "source": [
    "logs_df.show(10, truncate=False)"
   ]
  },
  {
   "cell_type": "markdown",
   "metadata": {},
   "source": [
    "#### Regular Expression Example: After DEBUG\n",
    "#### Example log line: '2025-07-17 07:34:02,537 ... DEBUG message'"
   ]
  },
  {
   "cell_type": "code",
   "execution_count": 10,
   "metadata": {},
   "outputs": [
    {
     "name": "stdout",
     "output_type": "stream",
     "text": [
      "+-----------------------+---------+---------------------------------------------------------------+\n",
      "|timestamp              |log_level|message                                                        |\n",
      "+-----------------------+---------+---------------------------------------------------------------+\n",
      "|2025-07-17 07:48:23,196|DEBUG    |Tarkin turns to the computer readout screen. Flames move       |\n",
      "|2025-07-17 07:48:23,564|DEBUG    |She lied! She lied to us!                                      |\n",
      "|2025-07-17 07:48:23,780|DEBUG    |feet from them and assumes a defensive position. The troops    |\n",
      "|2025-07-17 07:48:24,135|DEBUG    |Look, I can take you as far as                                 |\n",
      "|2025-07-17 07:48:24,448|DEBUG    |his field of view. Before Luke or Threepio can react, a large, |\n",
      "|2025-07-17 07:48:25,332|DEBUG    |The ship begins to rock violently as lasers hit it.            |\n",
      "|2025-07-17 07:48:26,301|DEBUG    |Our passengers must be hotter than I                           |\n",
      "|2025-07-17 07:48:26,865|DEBUG    |Good...                                                        |\n",
      "|2025-07-17 07:48:27,613|DEBUG    |Luke still recovering from the shock of seeing so many         |\n",
      "|2025-07-17 07:48:30,306|DEBUG    |size as the Rebel fighters approach. Complex patterns on the   |\n",
      "+-----------------------+---------+---------------------------------------------------------------+\n",
      "only showing top 10 rows\n",
      "\n"
     ]
    }
   ],
   "source": [
    "logs_cleaned = logs_df.withColumn(\"timestamp\", regexp_extract(col(\"value\"), r\"^([\\d\\-]+\\s[\\d:,]+)\", 1)) \\\n",
    "    .withColumn(\"log_level\", regexp_extract(col(\"value\"), r\"\\s(DEBUG|INFO|ERROR|WARN)\\s\", 1)) \\\n",
    "    .withColumn(\"message\", regexp_extract(col(\"value\"), r\"DEBUG\\s(.*)\", 1))\n",
    "\n",
    "logs_cleaned.select(\"timestamp\", \"log_level\", \"message\").show(10, truncate=False)"
   ]
  },
  {
   "cell_type": "markdown",
   "metadata": {},
   "source": [
    "#### The Most Word Repeated in the logs"
   ]
  },
  {
   "cell_type": "code",
   "execution_count": 13,
   "metadata": {},
   "outputs": [
    {
     "name": "stdout",
     "output_type": "stream",
     "text": [
      "+----+-----+\n",
      "|word|count|\n",
      "+----+-----+\n",
      "|    |  685|\n",
      "| the|  499|\n",
      "|  to|  208|\n",
      "|   a|  190|\n",
      "| and|  169|\n",
      "|  of|  144|\n",
      "|  in|  108|\n",
      "|   -|  102|\n",
      "|   I|  101|\n",
      "| his|   91|\n",
      "+----+-----+\n",
      "only showing top 10 rows\n",
      "\n"
     ]
    }
   ],
   "source": [
    "words = logs_cleaned.select(\n",
    "    explode(split(col(\"message\"), \"\\s+\")).alias(\"word\")\n",
    ")\n",
    "\n",
    "words.groupBy(\"word\").count().orderBy(\"count\", ascending=False).show(10)"
   ]
  },
  {
   "cell_type": "markdown",
   "metadata": {},
   "source": [
    "#### Saving The result in csv dir on your path"
   ]
  },
  {
   "cell_type": "code",
   "execution_count": null,
   "metadata": {
    "scrolled": true
   },
   "outputs": [],
   "source": [
    "logs_cleaned.select(\"timestamp\", \"log_level\", \"message\") \\\n",
    "    .coalesce(1) \\\n",
    "    .write.mode(\"overwrite\") \\\n",
    "    .option(\"header\", True) \\\n",
    "    .csv(\"file:///home/bigdata/Desktop/output/cleaned_logs/\") ##! replaced with your path\n"
   ]
  }
 ],
 "metadata": {
  "kernelspec": {
   "display_name": "Python 3",
   "language": "python",
   "name": "python3"
  },
  "language_info": {
   "codemirror_mode": {
    "name": "ipython",
    "version": 3
   },
   "file_extension": ".py",
   "mimetype": "text/x-python",
   "name": "python",
   "nbconvert_exporter": "python",
   "pygments_lexer": "ipython3",
   "version": "3.7.4"
  }
 },
 "nbformat": 4,
 "nbformat_minor": 2
}
